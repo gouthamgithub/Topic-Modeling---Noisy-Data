{
 "cells": [
  {
   "cell_type": "markdown",
   "metadata": {},
   "source": [
    "### Accessing OnePetro throught Dalhousie proxy"
   ]
  },
  {
   "cell_type": "code",
   "execution_count": null,
   "metadata": {},
   "outputs": [],
   "source": [
    "from selenium import webdriver\n",
    "from selenium.webdriver.common.keys import Keys\n",
    "\n",
    "from selenium import webdriver\n",
    "from selenium.webdriver.common.keys import Keys\n",
    "from selenium.webdriver.common.by import By\n",
    "from selenium.webdriver.support.ui import WebDriverWait\n",
    "from selenium.webdriver.support import expected_conditions as EC\n",
    "\n",
    "Entire_dat = []\n",
    "\n",
    "driver = webdriver.Chrome()\n",
    "driver.get(\"https://ezproxy.library.dal.ca/login?Url=https://www.onepetro.org/\")\n",
    "assert \"EzProxy\" in driver.title\n",
    "\n",
    "username = driver.find_element_by_id(\"user\")\n",
    "password = driver.find_element_by_id(\"pass\")\n",
    "submit   = driver.find_element_by_class_name(\"input-btn\")\n",
    "\n",
    "username.send_keys(username)\n",
    "password.send_keys(pass_word)\n",
    "submit.click()"
   ]
  },
  {
   "cell_type": "markdown",
   "metadata": {},
   "source": [
    "### Using Selenium to extract required data"
   ]
  },
  {
   "cell_type": "code",
   "execution_count": null,
   "metadata": {},
   "outputs": [],
   "source": [
    "for pagee in range(1,201):\n",
    "    driver.get(\"https://onepetro-org.ezproxy.library.dal.ca/search-results?q=upstream+oil+&f_ContentType=Journal+Articles&fl_SiteID=1&page=\"+str(pagee))\n",
    "\n",
    "    heading1 = driver.find_elements_by_partial_link_text('article')\n",
    "    links =[]\n",
    "    for h in range(len(heading1)):\n",
    "        links.append(heading1[h].get_attribute('href'))\n",
    "\n",
    "    for link in links:\n",
    "        each_row = []\n",
    "        driver.get(link)\n",
    "        #Title----------------------------------------------------------------------------\n",
    "        titt = driver.find_element_by_class_name('wi-article-title.article-title-main')\n",
    "        each_row.append(titt.text)\n",
    "        \n",
    "        #Date-----------------------------------------------------------------------------\n",
    "        datee = driver.find_element_by_class_name('article-date')\n",
    "        each_row.append(datee.text)\n",
    "        \n",
    "        #Keywords-------------------------------------------------------------------------\n",
    "        try:\n",
    "            keyy = driver.find_element_by_class_name('content-metadata-keywords')\n",
    "        except:\n",
    "            each_row.append('No_Keywords')\n",
    "        else:\n",
    "            each_row.append(keyy.text[10:])\n",
    "            \n",
    "        #Subjects-------------------------------------------------------------------------\n",
    "        try:\n",
    "            subb = driver.find_element_by_class_name('content-metadata-facetcategoryids')\n",
    "        except:\n",
    "            each_row.append('No_Subjects')\n",
    "        else:\n",
    "            each_row.append(subb.text[10:])\n",
    "        \n",
    "        #Abstract-------------------------------------------------------------------------\n",
    "        abb = driver.find_element_by_class_name('abstract')\n",
    "        each_row.append(abb.text)\n",
    "        \n",
    "        Entire_dat.append(each_row)\n",
    "        driver.back()\n",
    "    \n",
    "    print(pagee, len(Entire_dat))\n",
    "driver.close()"
   ]
  }
 ],
 "metadata": {
  "kernelspec": {
   "display_name": "Python 3",
   "language": "python",
   "name": "python3"
  },
  "language_info": {
   "codemirror_mode": {
    "name": "ipython",
    "version": 3
   },
   "file_extension": ".py",
   "mimetype": "text/x-python",
   "name": "python",
   "nbconvert_exporter": "python",
   "pygments_lexer": "ipython3",
   "version": "3.8.3"
  }
 },
 "nbformat": 4,
 "nbformat_minor": 4
}
